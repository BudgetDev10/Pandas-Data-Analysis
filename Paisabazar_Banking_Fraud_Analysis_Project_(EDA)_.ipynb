{
  "nbformat": 4,
  "nbformat_minor": 0,
  "metadata": {
    "colab": {
      "private_outputs": true,
      "provenance": [],
      "collapsed_sections": [
        "0wOQAZs5pc--",
        "KSlN3yHqYklG",
        "EM7whBJCYoAo",
        "4Of9eVA-YrdM",
        "bamQiAODYuh1",
        "QHF8YVU7Yuh3",
        "GwzvFGzlYuh3",
        "qYpmQ266Yuh3",
        "bbFf2-_FphqN",
        "_ouA3fa0phqN",
        "Seke61FWphqN",
        "gCFgpxoyphqP",
        "OVtJsKN_phqQ",
        "lssrdh5qphqQ",
        "U2RJ9gkRphqQ",
        "1M8mcRywphqQ",
        "tgIPom80phqQ",
        "JMzcOPDDphqR",
        "NC_X3p0fY2L0",
        "EXh0U9oCveiU",
        "22aHeOlLveiV",
        "JcMwzZxoAimU",
        "8G2x9gOozGDZ",
        "gIfDvo9L0UH2"
      ],
      "include_colab_link": true
    },
    "kernelspec": {
      "name": "python3",
      "display_name": "Python 3"
    },
    "language_info": {
      "name": "python"
    }
  },
  "cells": [
    {
      "cell_type": "markdown",
      "metadata": {
        "id": "view-in-github",
        "colab_type": "text"
      },
      "source": [
        "<a href=\"https://colab.research.google.com/github/BudgetDev10/Pandas-Data-Analysis/blob/main/Paisabazar_Banking_Fraud_Analysis_Project_(EDA)_.ipynb\" target=\"_parent\"><img src=\"https://colab.research.google.com/assets/colab-badge.svg\" alt=\"Open In Colab\"/></a>"
      ]
    },
    {
      "cell_type": "code",
      "source": [
        "\n"
      ],
      "metadata": {
        "id": "I1apcow5dxii"
      },
      "execution_count": null,
      "outputs": []
    },
    {
      "cell_type": "markdown",
      "source": [
        "# **Project Name**    - **\"Paisabazaar Banking Fraud Analysis\"(EDA).**\n",
        "\n",
        "\n",
        "\n",
        "\n"
      ],
      "metadata": {
        "id": "vncDsAP0Gaoa"
      }
    },
    {
      "cell_type": "markdown",
      "source": [
        "##### **Project Type**    - EDA/Regression/Classification/Unsupervised\n",
        "##### **Contribution**    - Individual\n",
        "##### **Analyzed By**    - Kishore Rachakonda\n"
      ],
      "metadata": {
        "id": "beRrZCGUAJYm"
      }
    },
    {
      "cell_type": "markdown",
      "source": [
        "# **Project Summary -** **\"Paisabazar Banking Fraud Analysis\".**"
      ],
      "metadata": {
        "id": "FJNUwmbgGyua"
      }
    },
    {
      "cell_type": "markdown",
      "source": [
        "**Summary of Paisabazar Banking Fraud Analysis:**\n",
        "The \"Paisabazar Banking Fraud Analysis\" project aims to leverage data analysis and machine learning to detect, analyze, and predict fraudulent activities in the banking system. The project is focused on identifying patterns that indicate fraud, including unauthorized transactions, identity theft, scams, or other financial crimes. By analyzing the Paisabazar dataset, the goal is to uncover key insights that could help financial institutions mitigate fraud risks, improve their fraud detection systems, and enhance overall customer security.\n",
        "\n",
        "**Key Points of the Analysis**:\n",
        "\n",
        "**Dataset Overview**:\n",
        "The dataset used in the analysis contains transaction records, customer details, and account information, with each record representing a transaction. The data includes various features that provide insights into transaction behaviors. Some of these features may include:\n",
        "\n",
        "Transaction Amount: The monetary value of the transaction.\n",
        "Transaction Time: Timestamp when the transaction occurred.\n",
        "Transaction Type: The kind of transaction (e.g., deposit, withdrawal, transfer).\n",
        "Customer Demographics: Information about the customer (e.g., age, location).\n",
        "Account Balance: The balance of the customer’s account at the time of transaction.\n",
        "Transaction Status: Whether the transaction was legitimate or fraudulent.\n",
        "These features provide the foundation for analyzing trends, detecting anomalies, and identifying potential fraud.\n",
        "\n",
        "**Objectives**:\n",
        "**The primary objectives of the project are**:\n",
        "\n",
        "Fraud Detection: Identify potentially fraudulent transactions through pattern recognition and anomaly detection within the dataset.\n",
        "Customer Behavior Analysis: Study customer transaction histories and behaviors to identify irregularities that might signal fraud risk.\n",
        "Feature Engineering: Develop new features based on transaction patterns (e.g., frequency of transactions, large transaction amounts) that may be indicative of fraudulent activities.\n",
        "Prediction Modeling: Create machine learning models that can classify transactions as either legitimate or fraudulent based on historical data and learned patterns.\n",
        "\n",
        "**Key Steps in the Analysis:**\n",
        "Data Exploration (EDA): The first step involves understanding the dataset by examining missing values, data types, distributions, and identifying outliers or anomalies. Visualizations like heatmaps, histograms, and scatter plots help reveal patterns and relationships in the data.\n",
        "\n",
        "Data Preprocessing: Data cleaning involves handling missing values, removing duplicates, and normalizing numerical features for better model performance. It also includes encoding categorical variables (e.g., transaction types) so that they can be used effectively in machine learning models.\n",
        "\n",
        "Correlation Analysis: A correlation matrix is used to identify relationships between numerical features. This helps understand which features are most strongly associated with fraudulent transactions and which can be dropped or transformed for better predictive accuracy.\n",
        "\n",
        "Feature Engineering: New features are created to highlight anomalies in transaction behavior, such as identifying unusually large transactions, frequent small transactions, or flagging accounts with high transaction volumes in a short period.\n",
        "\n",
        "Model Development: Multiple machine learning algorithms, including Logistic Regression, Decision Trees, Random Forest, Support Vector Machines (SVM), and XGBoost, are used to build predictive models for fraud detection. The models are evaluated using cross-validation to ensure robustness.\n",
        "\n",
        "Model Evaluation: The effectiveness of the models is measured using several performance metrics, such as accuracy, precision, recall, F1-score, ROC curves, and AUC (Area Under the Curve). These metrics help assess how well the model identifies fraudulent transactions while minimizing false positives and negatives.\n",
        "\n",
        "**Challenges:**\n",
        "\n",
        "Imbalanced Data: Fraudulent transactions are typically much rarer than legitimate transactions, which creates an imbalanced dataset. This can lead to poor model performance, especially in detecting fraud. Techniques such as oversampling, undersampling, or generating synthetic data (e.g., SMOTE) are often used to address this imbalance.\n",
        "\n",
        "Noise in the Data: Financial data can include noisy or erroneous transactions that are not representative of true fraud, making it more challenging to train accurate models. Handling outliers and noisy data through preprocessing steps is essential for effective fraud detection.\n",
        "\n",
        "Real-Time Detection: Fraud detection models need to operate in real time to flag potentially fraudulent transactions as they happen. This presents challenges for integrating machine learning models into production environments where speed and efficiency are critical.\n",
        "\n",
        "**Insights & Outcomes:**\n",
        "\n",
        "Identifying Fraud Patterns: Through the analysis, patterns in fraudulent transactions are identified. For instance, fraudulent transactions may include unusually large amounts, transactions occurring at irregular times, or high frequencies of transfers in a short window of time. Transactions originating from high-risk locations or involving high-risk customers are also flagged.\n",
        "\n",
        "Customer Risk Profiling: Certain customer profiles or transaction behaviors emerge as high-risk indicators of fraud. This enables banks to focus efforts on customers or transactions that are most likely to be fraudulent, improving the efficiency of fraud detection systems.\n",
        "\n",
        "Improved Fraud Detection Systems: By applying machine learning models, banks can monitor transactions more effectively, flagging suspicious activities in real-time. Insights from the analysis help build more accurate fraud detection systems that can adapt to new fraud tactics over time.\n",
        "\n",
        "**Recommendations:**\n",
        "\n",
        "Enhance Fraud Detection Systems: Financial institutions should integrate machine learning models into their operational systems to automatically flag suspicious transactions as they occur. This enables quick action to be taken on potentially fraudulent activities.\n",
        "\n",
        "Customer Education: Educating customers about common fraud tactics (e.g., phishing, identity theft) can reduce vulnerability to fraud, as well as encourage them to report suspicious activity promptly.\n",
        "\n",
        "Continuous Monitoring & Model Retraining: Fraud detection models need to be retrained periodically to keep up with evolving fraud tactics. Continuous monitoring helps identify new fraud trends and ensures the models remain effective.\n",
        "\n",
        "Policy Implementation: Financial institutions should establish clear policies for addressing flagged transactions, ensuring swift responses to prevent significant losses due to fraud."
      ],
      "metadata": {
        "id": "F6v_1wHtG2nS"
      }
    },
    {
      "cell_type": "markdown",
      "source": [
        "# **GitHub Link -** **\"Paisabazar Bank Fraud Analysis\"(EDA Link).**"
      ],
      "metadata": {
        "id": "w6K7xa23Elo4"
      }
    },
    {
      "cell_type": "markdown",
      "source": [
        "Provide your GitHub Link here."
      ],
      "metadata": {
        "id": "h1o69JH3Eqqn"
      }
    },
    {
      "cell_type": "markdown",
      "source": [
        "# **Problem Statement**\n"
      ],
      "metadata": {
        "id": "yQaldy8SH6Dl"
      }
    },
    {
      "cell_type": "markdown",
      "source": [
        "**Problem Statement for Paisabazaar Bank Fraud EDA (Exploratory Data Analysis)**\n",
        "**Background**\n",
        "\n",
        "Paisabazaar is a financial marketplace that connects users with various banks and financial institutions for loans, credit cards, and other financial products. With a growing user base and increasing digital transactions, detecting fraudulent activities is crucial to prevent financial losses and ensure customer trust.\n",
        "\n",
        "**Problem Definition:**\n",
        "\n",
        "Fraudulent activities, such as fake loan applications, identity theft, and unauthorized credit card transactions, pose significant risks to financial institutions and customers. The goal of this Exploratory Data Analysis (EDA) is to identify patterns, trends, and anomalies in transaction data that indicate fraudulent activities.\n",
        "\n",
        "**Objective:**\n",
        "Perform data cleaning and preprocessing on Paisabazaar's financial transaction dataset.\n",
        "Identify key features contributing to fraud detection.\n",
        "Analyze transaction behaviors of fraudulent vs. non-fraudulent cases.\n",
        "Visualize trends and anomalies in customer transactions.\n",
        "Provide insights to enhance fraud detection models and risk assessment strategies.\n",
        "\n",
        "**Scope of Analysis:**\n",
        "\n",
        "Data Cleaning & Preprocessing\n",
        "\n",
        "Handling missing values, duplicate records, and inconsistent data.\n",
        "Feature engineering to extract meaningful variables.\n",
        "Exploratory Data Analysis (EDA)\n",
        "\n",
        "**Univariate analysis:**\n",
        "\n",
        "Distribution of transaction amounts, frequency, etc.\n",
        "Bivariate/multivariate analysis: Correlation between fraud occurrences and other variables (e.g., location, time, transaction type).\n",
        "Time-series analysis: Fraud trends over time.\n",
        "Anomaly Detection & Insights\n",
        "\n",
        "**Identifying unusual spending patterns.**\n",
        "\n",
        "Clustering techniques for grouping high-risk transactions.\n",
        "Heatmaps and visualizations for fraud hotspots.\n",
        "Expected Outcome\n",
        "A better understanding of fraud patterns and risk factors.\n",
        "Recommendations for improving fraud detection systems.\n",
        "Actionable insights for financial institutions to prevent fraudulent transactions."
      ],
      "metadata": {
        "id": "DpeJGUA3kjGy"
      }
    },
    {
      "cell_type": "markdown",
      "source": [
        "#### **Define Your Business Objective?**"
      ],
      "metadata": {
        "id": "PH-0ReGfmX4f"
      }
    },
    {
      "cell_type": "markdown",
      "source": [
        "**Business Objective of Paisabazar Banking Fraud Analysis**:\n",
        "The primary business objective of the Paisabazar Banking Fraud Analysis project is to enhance the security and integrity of the banking system by detecting and preventing fraudulent activities in real-time. This involves leveraging data analysis and machine learning models to identify suspicious or unauthorized transactions, which could include identity theft, unauthorized access, scams, and other financial crimes.\n",
        "\n",
        "**Key business objectives include**:\n",
        "\n",
        "Fraud Detection and Prevention: To develop an effective system that can identify potentially fraudulent transactions as they occur, reducing the risk of financial loss and safeguarding customer assets.\n",
        "\n",
        "Risk Mitigation: By identifying patterns and high-risk transactions, the business aims to proactively mitigate the risk of financial crimes, improving customer trust and reducing reputational damage.\n",
        "\n",
        "Customer Protection: Ensuring the safety of customer accounts and financial transactions by flagging suspicious activities early, thereby providing a secure environment for customers to conduct their banking operations.\n",
        "\n",
        "Operational Efficiency: Automating the fraud detection process using machine learning, which enables quicker and more accurate identification of fraudulent transactions compared to manual methods, enhancing overall operational efficiency.\n",
        "\n",
        "Regulatory Compliance: Meeting compliance standards and regulations by ensuring that appropriate measures are in place to detect and report fraudulent activities, minimizing the potential for regulatory fines or penalties.\n",
        "\n",
        "Cost Reduction: Minimizing financial losses due to fraud by detecting fraudulent activities early, reducing the need for expensive post-fraud investigations and chargebacks.\n",
        "\n",
        "By achieving these objectives, Paisabazar aims to improve its fraud detection capabilities, reduce the financial impact of fraudulent transactions, and ultimately provide a safer, more reliable banking experience for its customers."
      ],
      "metadata": {
        "id": "PhDvGCAqmjP1"
      }
    },
    {
      "cell_type": "markdown",
      "source": [
        "# **General Guidelines** : -  Paisabazar Bank Fraud Analysis."
      ],
      "metadata": {
        "id": "mDgbUHAGgjLW"
      }
    },
    {
      "cell_type": "markdown",
      "source": [
        "1.   Well-structured, formatted, and commented code is required.\n",
        "2.   Exception Handling, Production Grade Code & Deployment Ready Code will be a plus. Those students will be awarded some additional credits.\n",
        "     \n",
        "     The additional credits will have advantages over other students during Star Student selection.\n",
        "       \n",
        "             [ Note: - Deployment Ready Code is defined as, the whole .ipynb notebook should be executable in one go\n",
        "                       without a single error logged. ]\n",
        "\n",
        "3.   Each and every logic should have proper comments.\n",
        "4. You may add as many number of charts you want. Make Sure for each and every chart the following format should be answered.\n",
        "        \n",
        "\n",
        "```\n",
        "# Chart visualization code\n",
        "```\n",
        "            \n",
        "\n",
        "*   Why did you pick the specific chart?\n",
        "*   What is/are the insight(s) found from the chart?\n",
        "* Will the gained insights help creating a positive business impact?\n",
        "Are there any insights that lead to negative growth? Justify with specific reason.\n",
        "\n",
        "5. You have to create at least 20 logical & meaningful charts having important insights.\n",
        "\n",
        "\n",
        "[ Hints : - Do the Vizualization in  a structured way while following \"UBM\" Rule.\n",
        "\n",
        "U - Univariate Analysis,\n",
        "\n",
        "B - Bivariate Analysis (Numerical - Categorical, Numerical - Numerical, Categorical - Categorical)\n",
        "\n",
        "M - Multivariate Analysis\n",
        " ]\n",
        "\n",
        "\n",
        "\n"
      ],
      "metadata": {
        "id": "ZrxVaUj-hHfC"
      }
    },
    {
      "cell_type": "markdown",
      "source": [
        "# ***Let's Begin !***"
      ],
      "metadata": {
        "id": "O_i_v8NEhb9l"
      }
    },
    {
      "cell_type": "markdown",
      "source": [
        "## ***1. Know Your Data***"
      ],
      "metadata": {
        "id": "HhfV-JJviCcP"
      }
    },
    {
      "cell_type": "markdown",
      "source": [
        "### Import Libraries"
      ],
      "metadata": {
        "id": "Y3lxredqlCYt"
      }
    },
    {
      "cell_type": "code",
      "source": [
        "#Import Libraries:\n",
        "import pandas as pd\n",
        "import numpy as np\n",
        "import matplotlib.pyplot as plt\n",
        "import seaborn as sns\n",
        "\n",
        "from google.colab import drive\n",
        "drive.mount('/content/drive')\n",
        "\n"
      ],
      "metadata": {
        "id": "M8Vqi-pPk-HR"
      },
      "execution_count": null,
      "outputs": []
    },
    {
      "cell_type": "markdown",
      "source": [
        "### Dataset Loading"
      ],
      "metadata": {
        "id": "3RnN4peoiCZX"
      }
    },
    {
      "cell_type": "code",
      "source": [
        "# Load Dataset\n",
        "data=pd.read_csv('/content/drive/MyDrive/dataset.csv')\n",
        "data\n"
      ],
      "metadata": {
        "id": "4CkvbW_SlZ_R"
      },
      "execution_count": null,
      "outputs": []
    },
    {
      "cell_type": "markdown",
      "source": [
        "### Dataset First View"
      ],
      "metadata": {
        "id": "x71ZqKXriCWQ"
      }
    },
    {
      "cell_type": "code",
      "source": [
        "# Dataset First Look\n",
        "data.head()\n"
      ],
      "metadata": {
        "id": "LWNFOSvLl09H"
      },
      "execution_count": null,
      "outputs": []
    },
    {
      "cell_type": "code",
      "source": [
        "data.tail()"
      ],
      "metadata": {
        "id": "tn5ap0Z3F94y"
      },
      "execution_count": null,
      "outputs": []
    },
    {
      "cell_type": "code",
      "source": [
        "# Dataset Rows & Columns count\n",
        "\n",
        "data.shape\n",
        "# Number of rows\n",
        "df_rows = data.shape[0]\n",
        "\n",
        "# Number of columns\n",
        "df_columns = data.shape[1]\n",
        "\n",
        "print(f\"Rows: {df_rows}, Columns: {df_columns}\")"
      ],
      "metadata": {
        "id": "Kllu7SJgmLij"
      },
      "execution_count": null,
      "outputs": []
    },
    {
      "cell_type": "markdown",
      "source": [
        "### Dataset Information"
      ],
      "metadata": {
        "id": "JlHwYmJAmNHm"
      }
    },
    {
      "cell_type": "code",
      "source": [
        "# Dataset Info\n",
        "data.info()"
      ],
      "metadata": {
        "id": "e9hRXRi6meOf"
      },
      "execution_count": null,
      "outputs": []
    },
    {
      "cell_type": "markdown",
      "source": [
        "#### Duplicate Values"
      ],
      "metadata": {
        "id": "35m5QtbWiB9F"
      }
    },
    {
      "cell_type": "code",
      "source": [
        "# Dataset Duplicate Value Count\n",
        "data.duplicated().sum()"
      ],
      "metadata": {
        "id": "1sLdpKYkmox0"
      },
      "execution_count": null,
      "outputs": []
    },
    {
      "cell_type": "code",
      "source": [
        "data.duplicated()"
      ],
      "metadata": {
        "id": "D2kYjW139sjE"
      },
      "execution_count": null,
      "outputs": []
    },
    {
      "cell_type": "markdown",
      "source": [
        "#### Missing Values/Null Values"
      ],
      "metadata": {
        "id": "PoPl-ycgm1ru"
      }
    },
    {
      "cell_type": "code",
      "source": [
        "# Missing Values/Null Values Count\n",
        "data.isnull().sum()"
      ],
      "metadata": {
        "id": "GgHWkxvamxVg"
      },
      "execution_count": null,
      "outputs": []
    },
    {
      "cell_type": "code",
      "source": [
        "# Visualizing the missing values\n",
        "import seaborn as sns\n",
        "import matplotlib.pyplot as plt\n",
        "\n",
        "plt.figure(figsize=(12, 1))\n",
        "sns.heatmap(data.isnull(), cmap=\"viridis\", cbar=False, yticklabels=False)\n",
        "plt.title(\"Missing Values Heatmap\")\n",
        "plt.show()"
      ],
      "metadata": {
        "id": "3q5wnI3om9sJ"
      },
      "execution_count": null,
      "outputs": []
    },
    {
      "cell_type": "markdown",
      "source": [
        "### What did you know about your dataset?"
      ],
      "metadata": {
        "id": "H0kj-8xxnORC"
      }
    },
    {
      "cell_type": "markdown",
      "source": [
        "The Paisabazaar Banking Fraud Analysis dataset focuses on identifying and understanding fraudulent transactions within banking activities. It typically includes features like transaction details (amount, date, type), user information (age, gender, location), behavioral data (frequency, device used), and a fraud indicator (0 = legitimate, 1 = fraud).\n",
        "\n",
        "A key challenge is class imbalance, as fraudulent transactions are much fewer than legitimate ones, requiring specialized techniques like oversampling (SMOTE) to improve model performance. The dataset may also contain missing values and duplicates, which must be handled through data cleaning and preprocessing.\n",
        "\n",
        "The primary objectives of analyzing this dataset are to detect fraud patterns, profile high-risk transactions, and develop predictive models for real-time fraud detection. Insights from the analysis can help enhance security, inform policy decisions, and educate users about potential risks.\n",
        "\n",
        "Paisabazaar employs advanced fraud detection systems using cutting-edge technologies to protect users and financial institutions. These systems continuously evolve to address emerging threats and enhance platform security.\n",
        "\n",
        "This dataset is crucial for building machine learning models that proactively identify suspicious activities, enabling quicker intervention and minimizing financial losses."
      ],
      "metadata": {
        "id": "gfoNAAC-nUe_"
      }
    },
    {
      "cell_type": "markdown",
      "source": [
        "## ***2. Understanding Your Variables***"
      ],
      "metadata": {
        "id": "nA9Y7ga8ng1Z"
      }
    },
    {
      "cell_type": "code",
      "source": [
        "# Dataset Columns\n",
        "data.columns"
      ],
      "metadata": {
        "id": "j7xfkqrt5Ag5"
      },
      "execution_count": null,
      "outputs": []
    },
    {
      "cell_type": "code",
      "source": [
        "# Dataset Describe\n",
        "data.describe"
      ],
      "metadata": {
        "id": "DnOaZdaE5Q5t"
      },
      "execution_count": null,
      "outputs": []
    },
    {
      "cell_type": "code",
      "source": [
        "data.describe(include='all')"
      ],
      "metadata": {
        "id": "5fr0924uwF1S"
      },
      "execution_count": null,
      "outputs": []
    },
    {
      "cell_type": "markdown",
      "source": [
        "### Variables Description"
      ],
      "metadata": {
        "id": "PBTbrJXOngz2"
      }
    },
    {
      "cell_type": "markdown",
      "source": [
        "The **variables (columns)** in the **Paisabazaar Banking Fraud Analysis** dataset typically represent transaction details, user information, and indicators to detect fraudulent activity. While the exact columns may vary, here’s a breakdown of commonly found variables and their descriptions:\n",
        "\n",
        "---\n",
        "\n",
        "**Common Variables and Their Descriptions**\n",
        "\n",
        "| **Column Name**            | **Description**                                | **Data Type**     |\n",
        "|----------------------------|-----------------------------------------------|------------------|\n",
        "| `Transaction_ID`           | Unique identifier for each transaction        | *Object/String*  |\n",
        "| `User_ID`                  | Unique identifier for each customer/user      | *Object/String*  |\n",
        "| `Transaction_Amount`       | Monetary value of the transaction (in INR)    | *Float/Integer*  |\n",
        "| `Transaction_Date`         | Date and time when the transaction occurred   | *Datetime*       |\n",
        "| `Transaction_Type`         | Type of transaction (e.g., credit, debit)     | *Object/String*  |\n",
        "| `Location`                 | Geographical location of the transaction      | *Object/String*  |\n",
        "| `Device_Type`              | Device used for the transaction (e.g., mobile, web) | *Object/String*  |\n",
        "| `IP_Address`               | IP address associated with the transaction    | *Object/String*  |\n",
        "| `Age`                      | Age of the user                               | *Integer*        |\n",
        "| `Gender`                   | Gender of the user (e.g., Male, Female, Other)| *Object/String*  |\n",
        "| `Account_Tenure`           | Duration of customer relationship (in years)  | *Integer*        |\n",
        "| `Transaction_Frequency`    | Number of transactions by the user within a time frame | *Integer*  |\n",
        "| `Is_International`         | Whether the transaction is international (0 = No, 1 = Yes) | *Integer*        |\n",
        "| `Is_Fraud`                 | Fraud label (0 = Not Fraudulent, 1 = Fraudulent) | *Integer (Target)*  |\n",
        "\n",
        "---\n",
        "\n",
        "**Special Considerations**\n",
        "1. **Categorical Variables**: `Transaction_Type`, `Device_Type`, `Gender` – may need encoding for model building.  \n",
        "2. **Datetime Variable**: `Transaction_Date` – can be split into day, month, hour for deeper analysis.  \n",
        "3. **Target Variable**: `Is_Fraud` – the main column for fraud detection modeling.  \n",
        "\n",
        "Would you like to explore specific columns, perform feature engineering, or start building a predictive model? 🚀"
      ],
      "metadata": {
        "id": "aJV4KIxSnxay"
      }
    },
    {
      "cell_type": "markdown",
      "source": [
        "### Check Unique Values for each variable."
      ],
      "metadata": {
        "id": "u3PMJOP6ngxN"
      }
    },
    {
      "cell_type": "code",
      "source": [
        "# Check Unique Values for each variable.\n",
        "for column in data.columns:\n",
        "    print(f\"{column}: {data[column].nunique()} unique values\")"
      ],
      "metadata": {
        "id": "zms12Yq5n-jE"
      },
      "execution_count": null,
      "outputs": []
    },
    {
      "cell_type": "markdown",
      "source": [
        "## 3. ***Data Wrangling***"
      ],
      "metadata": {
        "id": "dauF4eBmngu3"
      }
    },
    {
      "cell_type": "markdown",
      "source": [
        "### Data Wrangling Code"
      ],
      "metadata": {
        "id": "bKJF3rekwFvQ"
      }
    },
    {
      "cell_type": "code",
      "source": [
        "import pandas as pd\n",
        "import numpy as np\n",
        "from sklearn.preprocessing import StandardScaler\n",
        "\n",
        "# Load data\n",
        "data = pd.read_csv('/content/drive/MyDrive/dataset.csv')\n",
        "\n",
        "# Inspect data\n",
        "print(data.head())\n",
        "print(data.info())\n",
        "\n",
        "# Handle missing values\n",
        "data['Age'].fillna(data['Age'].mean(), inplace=True)\n",
        "data.dropna(subset=['Credit_Score'], inplace=True)\n",
        "\n",
        "# Remove duplicates\n",
        "data.drop_duplicates(inplace=True)\n",
        "\n",
        "# Convert data types\n",
        "data['Age'] = data['Age'].astype(int)\n",
        "data['Month'] = data['Month'].astype(float)\n",
        "\n",
        "\n",
        "# Rename columns\n",
        "data.rename(columns={'OldColumnName': 'NewColumnName'}, inplace=True)\n",
        "\n",
        "# Filter data (example: age greater than 30)\n",
        "filtered_data = data[data['Age'] > 30]\n",
        "\n",
        "\n",
        "# Create dummy variables\n",
        "data = pd.get_dummies(data, columns=['Month'], drop_first=True)\n",
        "\n",
        "# Feature engineering\n",
        "data['AgeGroup'] = pd.cut(data['Age'], bins=[0, 18, 35, 50, 100], labels=['Teen', 'Young Adult', 'Middle Aged', 'Senior'])\n",
        "\n",
        "# Scaling\n",
        "scaler = StandardScaler()\n",
        "data['Age'] = scaler.fit_transform(data[['Age']])\n",
        "\n",
        "# Save cleaned data\n",
        "data.to_csv('cleaned_data.csv', index=False)\n",
        "\n"
      ],
      "metadata": {
        "id": "wk-9a2fpoLcV"
      },
      "execution_count": null,
      "outputs": []
    },
    {
      "cell_type": "markdown",
      "source": [
        "### What all manipulations have you done and insights you found?"
      ],
      "metadata": {
        "id": "MSa1f5Uengrz"
      }
    },
    {
      "cell_type": "markdown",
      "source": [
        "In the Paisa Bazar Banking Fraud Analysis, several data wrangling techniques are employed to clean, preprocess, and transform raw data into valuable insights. The first step involves inspecting the dataset for any missing values, duplicates, and inconsistent data types. Missing values are handled by either filling them with appropriate replacements (such as the mean or median for numerical columns) or dropping the rows/columns entirely if they are not crucial to the analysis. Duplicate entries are removed to ensure data integrity, and columns are cast to the correct data types for analysis.\n",
        "\n",
        "Next, the data is transformed to extract meaningful features. This includes converting the transaction date column into a datetime format, allowing for time-based analysis, such as identifying trends in fraudulent activities over days, weeks, or months. Feature engineering may also be used to categorize transaction amounts into low, medium, and high values, or to classify accounts based on their transaction frequency and history. Additionally, suspicious patterns like unusually high or frequent transactions can be flagged for further investigation.\n",
        "\n",
        "Exploratory Data Analysis (EDA) is then conducted to uncover insights from the data. Fraudulent transactions are compared to non-fraudulent ones based on various factors, including transaction amounts, transaction times, and account types. For example, fraudulent transactions might tend to be larger in amount or more frequent during off-hours or around specific events like holidays. Geographical patterns can also emerge, revealing regions where fraud is more prevalent.\n",
        "\n",
        "Key insights from such an analysis include identifying certain account types or customer profiles that are more prone to fraud, as well as time-based patterns that suggest fraud peaks during specific periods. These findings can be used to improve fraud detection mechanisms, enhance security measures, and better understand how fraud is perpetrated. Ultimately, the data wrangling process aims to provide actionable insights that can help reduce the risk of fraud and improve the overall security of banking systems."
      ],
      "metadata": {
        "id": "LbyXE7I1olp8"
      }
    },
    {
      "cell_type": "markdown",
      "source": [
        "## ***4. Data Vizualization, Storytelling & Experimenting with charts : Understand the relationships between variables***"
      ],
      "metadata": {
        "id": "GF8Ens_Soomf"
      }
    },
    {
      "cell_type": "markdown",
      "source": [
        "#### Chart - 1 Distribution of Credit Scores."
      ],
      "metadata": {
        "id": "0wOQAZs5pc--"
      }
    },
    {
      "cell_type": "code",
      "source": [
        "# Chart - 1 visualization code - Distribution of Credit Scores.\n",
        "# Import required libraries\n",
        "import pandas as pd\n",
        "import matplotlib.pyplot as plt\n",
        "import seaborn as sns\n",
        "\n",
        "from google.colab import drive\n",
        "drive.mount('/content/drive')\n",
        "\n",
        "data = pd.read_csv('/content/drive/MyDrive/dataset.csv')\n",
        "\n",
        "\n",
        "\n"
      ],
      "metadata": {
        "id": "7v_ESjsspbW7"
      },
      "execution_count": null,
      "outputs": []
    },
    {
      "cell_type": "code",
      "source": [
        "# 1. Distribution of Credit Scores\n",
        "# Set Seaborn style\n",
        "sns.set_theme(style=\"whitegrid\")\n",
        "\n",
        "plt.figure(figsize=(8, 5))\n",
        "sns.countplot(x='Credit_Score', data=data, palette='Set2')\n",
        "plt.title('Distribution of Credit Scores')\n",
        "plt.xlabel('Credit Score')\n",
        "plt.ylabel('Count')\n",
        "plt.show()"
      ],
      "metadata": {
        "id": "mOseJJgOCoTj"
      },
      "execution_count": null,
      "outputs": []
    },
    {
      "cell_type": "markdown",
      "source": [
        "##### 1. Why did you pick the specific chart?"
      ],
      "metadata": {
        "id": "K5QZ13OEpz2H"
      }
    },
    {
      "cell_type": "markdown",
      "source": [
        "-Distribution of Credit Scores (Count Plot)\n",
        "Purpose: To visualize how credit scores are distributed across the dataset.\n",
        "Insight: Identify whether the dataset is balanced (e.g., equal representation of \"Good\", \"Standard\", \"Poor\" credit scores) or if there is an imbalance.\n"
      ],
      "metadata": {
        "id": "XESiWehPqBRc"
      }
    },
    {
      "cell_type": "markdown",
      "source": [
        "##### 2. What is/are the insight(s) found from the chart?"
      ],
      "metadata": {
        "id": "lQ7QKXXCp7Bj"
      }
    },
    {
      "cell_type": "markdown",
      "source": [
        "\n",
        "**Key Insights from the Charts**:\n",
        "**Credit Score Distribution:**\n",
        "\"Good\" credit scores dominate the dataset, while \"Poor\" credit scores are the least represented. This imbalance may affect model accuracy if not handled properly.\n",
        "\n",
        "**Annual Income vs. Outstanding Debt:**\n",
        "Higher-income individuals generally have lower outstanding debt. People with \"Poor\" credit scores often carry more debt, indicating a strong correlation between high debt and low creditworthiness.\n",
        "\n",
        "**Number of Loans by Occupation:**\n",
        "Self-employed individuals and entrepreneurs tend to have more loans and higher variability, while salaried professionals maintain fewer loans. Outliers with excessive loans may signal financial stress.\n",
        "\n",
        "**Delayed Payments vs. Credit Utilization:**\n",
        "A clear relationship exists between high delayed payments and high credit utilization, especially in those with poor credit. This group is at higher risk for default.\n",
        "\n",
        "**Credit Mix:**\n",
        "A balanced credit mix correlates with better credit scores, while unbalanced (mostly unsecured) credit is common among those with poor credit.\n",
        "\n",
        "**Payment Behavior:**\n",
        "Irregular and delayed payments are prevalent in individuals with poor credit scores, highlighting the need for payment monitoring.\n",
        "\n",
        "**Correlation Analysis:**\n",
        "Credit utilization and delayed payments are the strongest indicators of credit risk. Age shows minimal influence on credit behavior."
      ],
      "metadata": {
        "id": "C_j1G7yiqdRP"
      }
    },
    {
      "cell_type": "markdown",
      "source": [
        "##### 3. Will the gained insights help creating a positive business impact?\n",
        "Are there any insights that lead to negative growth? Justify with specific reason."
      ],
      "metadata": {
        "id": "448CDAPjqfQr"
      }
    },
    {
      "cell_type": "markdown",
      "source": [
        "The gained insights can create a positive business impact by enabling more informed decision-making and improving customer engagement.\n",
        "\n",
        "**Improved Risk Assessment** is possible as high credit utilization and delayed payments are strong predictors of poor credit. Using these indicators allows businesses to identify high-risk customers and take proactive measures such as offering debt restructuring or financial counseling to reduce loan defaults and bad debt.\n",
        "\n",
        "**Personalized Offerings** can be tailored to different occupations, as self-employed individuals tend to have more loans. This allows businesses to customize loan products and interest rates, improving customer satisfaction and loan approval rates.\n",
        "\n",
        "**Enhanced Customer** Retention can be achieved by addressing irregular payment behavior, which is more common among customers with poor credit. Implementing payment reminders, offering grace periods, and introducing rewards for timely payments can reduce customer churn and improve repayment consistency.\n",
        "\n",
        "**Data-Driven Marketing** can also be improved by promoting diverse credit products, as customers with a balanced credit mix have better credit scores. This strategy encourages healthy credit behavior and enables cross-selling of financial services.\n",
        "\n",
        "**Operational Efficiency** can be enhanced by focusing on variables like credit utilization, which strongly correlate with credit risk. Prioritizing these variables in automated risk models reduces manual review time and speeds up decision-making, allowing businesses to optimize credit decisions, enhance customer relationships, and increase profitability while minimizing financial risks."
      ],
      "metadata": {
        "id": "3cspy4FjqxJW"
      }
    },
    {
      "cell_type": "markdown",
      "source": [
        "#### Chart - 2 Annual Income vs. Outstanding Debt by Credit Score"
      ],
      "metadata": {
        "id": "KSlN3yHqYklG"
      }
    },
    {
      "cell_type": "code",
      "source": [
        "# Chart - 2 visualization code - Annual Income vs. Outstanding Debt by Credit Score.\n",
        "# Import required libraries\n",
        "import pandas as pd\n",
        "import matplotlib.pyplot as plt\n",
        "import seaborn as sns\n",
        "\n",
        "from google.colab import drive\n",
        "drive.mount('/content/drive')\n",
        "\n",
        "data = pd.read_csv('/content/drive/MyDrive/dataset.csv')\n",
        "\n",
        "# 2. Annual Income vs. Outstanding Debt by Credit Score\n",
        "plt.figure(figsize=(10, 6))\n",
        "sns.scatterplot(x='Annual_Income', y='Outstanding_Debt', hue='Credit_Score', data=data, alpha=0.6, palette='Set1')\n",
        "plt.title('Annual Income vs. Outstanding Debt by Credit Score')\n",
        "plt.xlabel('Annual Income')\n",
        "plt.ylabel('Outstanding Debt')\n",
        "plt.legend(title='Credit Score')\n",
        "plt.show()"
      ],
      "metadata": {
        "id": "R4YgtaqtYklH"
      },
      "execution_count": null,
      "outputs": []
    },
    {
      "cell_type": "markdown",
      "source": [
        "##### 1. Why did you pick the specific chart?"
      ],
      "metadata": {
        "id": "t6dVpIINYklI"
      }
    },
    {
      "cell_type": "markdown",
      "source": [
        "**Purpose:** To observe the relationship between Annual Income and Outstanding Debt across different credit scores.\n",
        "\n",
        "Best suited to identify relationships and patterns between two continuous variables while showing credit score categories."
      ],
      "metadata": {
        "id": "5aaW0BYyYklI"
      }
    },
    {
      "cell_type": "markdown",
      "source": [
        "##### 2. What is/are the insight(s) found from the chart?"
      ],
      "metadata": {
        "id": "ijmpgYnKYklI"
      }
    },
    {
      "cell_type": "markdown",
      "source": [
        "**Insight:** Detect if individuals with higher debt are more likely to have poor credit scores, or whether income level impacts debt management."
      ],
      "metadata": {
        "id": "PSx9atu2YklI"
      }
    },
    {
      "cell_type": "markdown",
      "source": [
        "##### 3. Will the gained insights help creating a positive business impact?\n",
        "Are there any insights that lead to negative growth? Justify with specific reason."
      ],
      "metadata": {
        "id": "-JiQyfWJYklI"
      }
    },
    {
      "cell_type": "markdown",
      "source": [
        "**Analyzing Annual Income vs. Outstanding Debt by Credit Score** can drive both positive and negative business impacts, depending on how insights are interpreted and applied.\n",
        "\n",
        "On the positive side, these insights improve risk assessment by identifying high-risk borrowers and allowing personalized product offerings based on financial health. Businesses can use this data for customer segmentation, tailoring marketing campaigns to different credit score bands. Recognizing patterns between debt, income, and defaults helps reduce default rates through stricter lending policies. Additionally, it supports better pricing strategies, enabling dynamic interest rates and credit limits based on risk profiles. This analysis also aids forecasting and strategic planning, allowing companies to adjust proactively. For example, low-risk customers with high credit scores can receive better loan terms, while high-risk customers may face tighter credit policies.\n",
        "\n",
        "However, misinterpreting these insights may lead to negative growth. An over-reliance on high-credit customers can limit market reach and revenue. Strict lending policies may reduce loan approvals and customer acquisition. Mispricing credit products—offering low rates to low-risk customers and high rates to others—can lower profit margins and drive customer churn. Additionally, data misinterpretation and excessive monitoring increase operational costs and damage brand reputation.\n",
        "\n",
        "**A balanced approach—**leveraging insights while maintaining flexibility—ensures sustainable growth, customer satisfaction, and long-term profitability."
      ],
      "metadata": {
        "id": "BcBbebzrYklV"
      }
    },
    {
      "cell_type": "markdown",
      "source": [
        "#### Chart - 3 Number of Loans by Occupation."
      ],
      "metadata": {
        "id": "EM7whBJCYoAo"
      }
    },
    {
      "cell_type": "code",
      "source": [
        "# Chart - 3 visualization code - Number of Loans by Occupation\n",
        "# Import required libraries\n",
        "import pandas as pd\n",
        "import matplotlib.pyplot as plt\n",
        "import seaborn as sns\n",
        "\n",
        "from google.colab import drive\n",
        "drive.mount('/content/drive')\n",
        "\n",
        "data = pd.read_csv('/content/drive/MyDrive/dataset.csv')\n",
        "\n",
        "# 3. Number of Loans by Occupation\n",
        "plt.figure(figsize=(12, 6))\n",
        "sns.boxplot(x='Occupation', y='Num_of_Loan', data=data, palette='muted')\n",
        "plt.title('Distribution of Number of Loans by Occupation')\n",
        "plt.xticks(rotation=45, ha='right')\n",
        "plt.xlabel('Occupation')\n",
        "plt.ylabel('Number of Loans')\n",
        "plt.show()"
      ],
      "metadata": {
        "id": "t6GMdE67YoAp"
      },
      "execution_count": null,
      "outputs": []
    },
    {
      "cell_type": "markdown",
      "source": [
        "##### 1. Why did you pick the specific chart?"
      ],
      "metadata": {
        "id": "fge-S5ZAYoAp"
      }
    },
    {
      "cell_type": "markdown",
      "source": [
        "**Purpose:** To explore how the number of loans varies across different occupations.\n",
        "Ideal for understanding distributions, including median, spread, and outliers across categories."
      ],
      "metadata": {
        "id": "5dBItgRVYoAp"
      }
    },
    {
      "cell_type": "markdown",
      "source": [
        "##### 2. What is/are the insight(s) found from the chart?"
      ],
      "metadata": {
        "id": "85gYPyotYoAp"
      }
    },
    {
      "cell_type": "markdown",
      "source": [
        "**Insight:** Identify which occupations hold more loans, helping detect sectors that may have a higher risk of financial distress.\n",
        "\n",
        "Salaried professionals tend to have fewer loans, possibly due to stable income and better credit management.\n",
        "\n",
        "Outliers indicate individuals with excessive loans, which may signal a risk of over-borrowing."
      ],
      "metadata": {
        "id": "4jstXR6OYoAp"
      }
    },
    {
      "cell_type": "markdown",
      "source": [
        "##### 3. Will the gained insights help creating a positive business impact?\n",
        "Are there any insights that lead to negative growth? Justify with specific reason."
      ],
      "metadata": {
        "id": "RoGjAbkUYoAp"
      }
    },
    {
      "cell_type": "markdown",
      "source": [
        "The analysis of **Number of Loans by Occupation** provides valuable insights for business growth. It helps in tailoring loan products, improving risk assessment, and targeted marketing by identifying high-demand occupations. This allows companies to allocate resources more effectively and offer better terms to low-risk groups, fostering customer satisfaction and operational efficiency.\n",
        "\n",
        "However, misinterpreting the data can lead to negative growth. Overlooking niche segments like freelancers may limit market expansion, while stereotyping risk could result in missed opportunities. Additionally, resource misallocation by focusing solely on high-loan occupations and policy rigidity may increase defaults in riskier categories.\n",
        "\n",
        "**A balanced approach**—combining data-driven decisions with flexibility—ensures sustainable growth, improves customer targeting, and optimizes lending strategies across diverse occupational groups."
      ],
      "metadata": {
        "id": "zfJ8IqMcYoAp"
      }
    },
    {
      "cell_type": "markdown",
      "source": [
        "#### Chart - 4 Delayed Payments vs. Credit Utilization Ratio."
      ],
      "metadata": {
        "id": "4Of9eVA-YrdM"
      }
    },
    {
      "cell_type": "code",
      "source": [
        "# Chart - 4 visualization code - Delayed Payments vs. Credit Utilization Ratio.\n",
        "# Import required libraries\n",
        "import pandas as pd\n",
        "import matplotlib.pyplot as plt\n",
        "import seaborn as sns\n",
        "\n",
        "from google.colab import drive\n",
        "drive.mount('/content/drive')\n",
        "\n",
        "data = pd.read_csv('/content/drive/MyDrive/dataset.csv')\n",
        "\n",
        "# 4. Delayed Payments vs. Credit Utilization Ratio\n",
        "plt.figure(figsize=(8, 5))\n",
        "sns.scatterplot(x='Num_of_Delayed_Payment', y='Credit_Utilization_Ratio', hue='Credit_Score', data=data, alpha=0.7, palette='coolwarm')\n",
        "plt.title('Delayed Payments vs. Credit Utilization Ratio')\n",
        "plt.xlabel('Number of Delayed Payments')\n",
        "plt.ylabel('Credit Utilization Ratio')\n",
        "plt.legend(title='Credit Score')\n",
        "plt.show()"
      ],
      "metadata": {
        "id": "irlUoxc8YrdO"
      },
      "execution_count": null,
      "outputs": []
    },
    {
      "cell_type": "markdown",
      "source": [
        "##### 1. Why did you pick the specific chart?"
      ],
      "metadata": {
        "id": "iky9q4vBYrdO"
      }
    },
    {
      "cell_type": "markdown",
      "source": [
        "**Purpose:** To check how delayed payments correlate with the credit utilization ratio.\n",
        "Identify patterns—e.g., does frequent late payment align with high credit usage, which may increase the likelihood of poor credit?\n",
        "\n",
        "Best for showing correlations between two numeric variables and comparing credit score groups."
      ],
      "metadata": {
        "id": "aJRCwT6DYrdO"
      }
    },
    {
      "cell_type": "markdown",
      "source": [
        "##### 2. What is/are the insight(s) found from the chart?"
      ],
      "metadata": {
        "id": "F6T5p64dYrdO"
      }
    },
    {
      "cell_type": "markdown",
      "source": [
        "**Insight:**\n",
        "\n",
        "Customers with higher delayed payments also exhibit higher credit utilization—a strong indicator of poor credit.\n",
        "Most individuals with a \"Good\" credit score maintain a low credit utilization ratio and have fewer delayed payments.\n",
        "Outlier Alert: Some users have extremely high utilization and many delayed payments, indicating financial distress."
      ],
      "metadata": {
        "id": "Xx8WAJvtYrdO"
      }
    },
    {
      "cell_type": "markdown",
      "source": [
        "##### 3. Will the gained insights help creating a positive business impact?\n",
        "Are there any insights that lead to negative growth? Justify with specific reason."
      ],
      "metadata": {
        "id": "y-Ehk30pYrdP"
      }
    },
    {
      "cell_type": "markdown",
      "source": [
        "**Positive Impact:**\n",
        "Proactive Risk Management: Identifying customers with high credit utilization and frequent delays allows businesses to mitigate potential defaults.\n",
        "Personalized Repayment Plans: Offering tailored repayment solutions can enhance customer retention and reduce non-performing loans.\n",
        "Optimized Credit Limits: Adjusting credit limits based on utilization patterns helps balance profitability and minimize risk.\n",
        "\n",
        "**Negative Impact:**\n",
        "Customer Attrition: Over-penalizing customers experiencing temporary financial hardship may reduce long-term loyalty.\n",
        "Misclassification Risks: Treating high credit utilization as inherently risky without contextual factors may exclude reliable and profitable customers.\n",
        "Policy Inflexibility: Rigid decisions based solely on credit utilization data may hinder adaptation to changing economic conditions.\n",
        "\n",
        "**A balanced approach** ensures accurate risk assessment while maintaining customer satisfaction and fostering sustainable growth."
      ],
      "metadata": {
        "id": "jLNxxz7MYrdP"
      }
    },
    {
      "cell_type": "markdown",
      "source": [
        "#### Chart - 5  Credit Mix Distribution."
      ],
      "metadata": {
        "id": "bamQiAODYuh1"
      }
    },
    {
      "cell_type": "code",
      "source": [
        "# Chart - 5 visualization code -  Credit Mix Distribution.\n",
        "# Import required libraries\n",
        "import pandas as pd\n",
        "import matplotlib.pyplot as plt\n",
        "import seaborn as sns\n",
        "\n",
        "from google.colab import drive\n",
        "drive.mount('/content/drive')\n",
        "\n",
        "data = pd.read_csv('/content/drive/MyDrive/dataset.csv')\n",
        "\n",
        "# 5. Credit Mix Distribution\n",
        "plt.figure(figsize=(8, 5))\n",
        "sns.countplot(x='Credit_Mix', data=data, palette='Blues')\n",
        "plt.title('Distribution of Credit Mix')\n",
        "plt.xlabel('Credit Mix')\n",
        "plt.ylabel('Count')\n",
        "plt.show()\n"
      ],
      "metadata": {
        "id": "TIJwrbroYuh3"
      },
      "execution_count": null,
      "outputs": []
    },
    {
      "cell_type": "markdown",
      "source": [
        "##### 1. Why did you pick the specific chart?"
      ],
      "metadata": {
        "id": "QHF8YVU7Yuh3"
      }
    },
    {
      "cell_type": "markdown",
      "source": [
        "**Purpose:** To examine the distribution of different credit types (e.g., secured, unsecured, mixed).\n",
        "\n",
        "**Insight:** Understand which credit mix is most common and how it may influence creditworthiness."
      ],
      "metadata": {
        "id": "dcxuIMRPYuh3"
      }
    },
    {
      "cell_type": "markdown",
      "source": [
        "##### 2. What is/are the insight(s) found from the chart?"
      ],
      "metadata": {
        "id": "GwzvFGzlYuh3"
      }
    },
    {
      "cell_type": "markdown",
      "source": [
        "The majority of customers have a **\"Standard\"** credit mix, meaning a balanced use of secured and unsecured credit.\n",
        "Customers with a \"Poor\" credit score tend to have unbalanced credit types, especially high-risk unsecured loans.\n",
        "\n",
        "**Recommendation:** Encourage diverse credit usage to improve credit health and educate customers on balanced credit strategies."
      ],
      "metadata": {
        "id": "uyqkiB8YYuh3"
      }
    },
    {
      "cell_type": "markdown",
      "source": [
        "##### 3. Will the gained insights help creating a positive business impact?\n",
        "Are there any insights that lead to negative growth? Justify with specific reason."
      ],
      "metadata": {
        "id": "qYpmQ266Yuh3"
      }
    },
    {
      "cell_type": "markdown",
      "source": [
        "**Credit Mix Distribution & Business Impact**\n",
        "Credit mix refers to the diversity of a borrower's credit accounts, including credit cards, mortgages, auto loans, and personal loans. A well-balanced mix indicates responsible borrowing, reducing loan defaults.\n",
        "\n",
        "**Positive Business Impact:**\n",
        "\n",
        "Better Risk Assessment: Helps lenders assess creditworthiness.\n",
        "Targeted Offerings: Enables personalized loan promotions.\n",
        "Optimized Interest Rates: Adjusts rates based on risk.\n",
        "\n",
        "**Negative Growth Risks:**\n",
        "\n",
        "High Unsecured Loans (credit cards, personal loans) increase default risks.\n",
        "Low Mortgage Proportion reduces financial stability.\n",
        "Over-Reliance on One Loan Type raises economic vulnerability.\n",
        "\n",
        "**A diverse and balanced credit mix** improves financial stability, customer engagement, and long-term growth.\n",
        "\n",
        "**Over-reliance on unsecured loans** or a single credit type can increase risk and lead to negative business impacts."
      ],
      "metadata": {
        "id": "_WtzZ_hCYuh4"
      }
    },
    {
      "cell_type": "markdown",
      "source": [
        "#### Chart - 6 Payment Behavior by Credit Score."
      ],
      "metadata": {
        "id": "OH-pJp9IphqM"
      }
    },
    {
      "cell_type": "code",
      "source": [
        "# Chart - 6 visualization code -Payment Behavior by Credit Score.\n",
        "# Import required libraries\n",
        "import pandas as pd\n",
        "import matplotlib.pyplot as plt\n",
        "import seaborn as sns\n",
        "\n",
        "from google.colab import drive\n",
        "drive.mount('/content/drive')\n",
        "\n",
        "data = pd.read_csv('/content/drive/MyDrive/dataset.csv')\n",
        "\n",
        "\n",
        "# 6. Payment Behavior by Credit Score\n",
        "plt.figure(figsize=(12, 6))\n",
        "sns.countplot(x='Payment_Behaviour', hue='Credit_Score', data=data, palette='Set3')\n",
        "plt.title('Payment Behavior by Credit Score')\n",
        "plt.xticks(rotation=45, ha='right')\n",
        "plt.xlabel('Payment Behaviour')\n",
        "plt.ylabel('Count')\n",
        "plt.legend(title='Credit Score')\n",
        "plt.show()"
      ],
      "metadata": {
        "id": "kuRf4wtuphqN"
      },
      "execution_count": null,
      "outputs": []
    },
    {
      "cell_type": "markdown",
      "source": [
        "##### 1. Why did you pick the specific chart?"
      ],
      "metadata": {
        "id": "bbFf2-_FphqN"
      }
    },
    {
      "cell_type": "markdown",
      "source": [
        "**Purpose:** To analyze how payment behavior varies with credit score categories.\n",
        "\n",
        "**Insight:** Identify if irregular or delayed payments are associated with poor credit.\n",
        "Suitable for comparing categorical data across multiple categories (hue)."
      ],
      "metadata": {
        "id": "loh7H2nzphqN"
      }
    },
    {
      "cell_type": "markdown",
      "source": [
        "##### 2. What is/are the insight(s) found from the chart?"
      ],
      "metadata": {
        "id": "_ouA3fa0phqN"
      }
    },
    {
      "cell_type": "markdown",
      "source": [
        "Individuals with poor credit scores frequently exhibit irregular payment behaviors, including delayed and missed payments.\n",
        "Regular and prompt payments strongly correlate with a \"Good\" credit score.\n",
        "\n",
        "**Recommendation:** Implement payment reminders and financial literacy campaigns to reduce missed payments."
      ],
      "metadata": {
        "id": "VECbqPI7phqN"
      }
    },
    {
      "cell_type": "markdown",
      "source": [
        "##### 3. Will the gained insights help creating a positive business impact?\n",
        "Are there any insights that lead to negative growth? Justify with specific reason."
      ],
      "metadata": {
        "id": "Seke61FWphqN"
      }
    },
    {
      "cell_type": "markdown",
      "source": [
        "**Positive Business Impact:**\n",
        "\n",
        "Better Risk Profiling: Identifies reliable borrowers vs. high-risk ones.\n",
        "Customized Loan Offerings: Lower interest rates for good payers, higher for risky ones.\n",
        "Improved Debt Recovery Strategies: Early detection of late payers allows proactive measures.\n",
        "\n",
        "**Negative Growth Risks:**\n",
        "High Delinquency in Low Credit Scores increases defaults, leading to revenue loss.\n",
        "Over-Reliance on High-Score Borrowers may limit business expansion in underserved markets.\n",
        "Ignoring Payment Patterns can result in inefficient collection strategies.\n",
        "**Strategy:** Implement stricter risk policies for low-score borrowers, offer incentives for on-time payments, and balance loan distribution across score ranges."
      ],
      "metadata": {
        "id": "DW4_bGpfphqN"
      }
    },
    {
      "cell_type": "markdown",
      "source": [
        "#### Chart - 7 Customer Distribution by Age Group(LineChart)."
      ],
      "metadata": {
        "id": "PIIx-8_IphqN"
      }
    },
    {
      "cell_type": "code",
      "source": [
        "# Chart - 7 visualization code\n",
        "# Import required libraries\n",
        "import pandas as pd\n",
        "import matplotlib.pyplot as plt\n",
        "import seaborn as sns\n",
        "\n",
        "from google.colab import drive\n",
        "drive.mount('/content/drive')\n",
        "\n",
        "data = pd.read_csv('/content/drive/MyDrive/dataset.csv')\n",
        "\n",
        "# Check if necessary columns exist\n",
        "if 'Age' in data.columns and 'Customer_ID' in data.columns:\n",
        "    # Define age groups\n",
        "    bins = [18, 25, 35, 45, 55, 65, 100]\n",
        "    labels = ['18-25', '26-35', '36-45', '46-55', '56-65', '65+']\n",
        "    data['Age Group'] = pd.cut(data['Age'], bins=bins, labels=labels, right=False)\n",
        "\n",
        "    # Count number of customers in each age group\n",
        "    customer_counts = data.groupby('Age Group')['Customer_ID'].nunique()\n",
        "\n",
        "    # Plot Line Chart\n",
        "    plt.figure(figsize=(10, 5))\n",
        "    plt.plot(customer_counts.index, customer_counts.values, marker='o', linestyle='-', color='g', label=\"Customers\")\n",
        "\n",
        "    # Titles and Labels\n",
        "    plt.title(\"Customer Distribution by Age Group\")\n",
        "    plt.xlabel(\"Age Groups\")\n",
        "    plt.ylabel(\"Number of Unique Customers\")\n",
        "    plt.xticks(rotation=0)\n",
        "    plt.legend()\n",
        "    plt.grid(axis=\"y\", linestyle=\"--\", alpha=0.7)\n",
        "\n",
        "    # Show Plot\n",
        "    plt.show()\n",
        "else:\n",
        "    print(\"Columns 'Age' and 'Customer_ID' not found in dataset. Please check column names.\")"
      ],
      "metadata": {
        "id": "lqAIGUfyphqO"
      },
      "execution_count": null,
      "outputs": []
    },
    {
      "cell_type": "markdown",
      "source": [
        "##### 1. Why did you pick the specific chart?"
      ],
      "metadata": {
        "id": "t27r6nlMphqO"
      }
    },
    {
      "cell_type": "markdown",
      "source": [
        "**Age-Wise Customer Data Flow:**\n",
        "\n",
        "Visualizes Customer Distribution: Helps in understanding the number of customers in different age groups.\n",
        "\n",
        "**Identifies Key Age Segments:** Useful for tailoring banking products for different age demographics.\n",
        "\n",
        "**Supports Business Strategy:** Banks can optimize marketing campaigns based on dominant age groups."
      ],
      "metadata": {
        "id": "iv6ro40sphqO"
      }
    },
    {
      "cell_type": "markdown",
      "source": [
        "##### 2. What is/are the insight(s) found from the chart?"
      ],
      "metadata": {
        "id": "r2jJGEOYphqO"
      }
    },
    {
      "cell_type": "markdown",
      "source": [
        "**Insights from the Age-Wise Customer Line Chart Analysis**\n",
        "\n",
        "**1. Peak Age Groups for Banking Customers**\n",
        "\n",
        "If the chart shows a peak in the 26-35 age group, this indicates that young professionals are the most active banking customers.\n",
        "If the 36-45 or 46-55 groups have a high count, it suggests that middle-aged individuals are key customers, likely due to higher savings, investments, and loan usage.\n",
        "\n",
        "**2. Low Representation in Certain Age Groups**\n",
        "\n",
        "If the 18-25 age group is lower, it might suggest that younger individuals are not engaging with banking services, possibly due to financial dependence on parents or lack of income.\n",
        "If 65+ has a very low count, it may indicate that older customers are not using digital banking services as actively.\n",
        "\n",
        "**3. Growth Opportunities for Different Age Segments**\n",
        "\n",
        "If the 56-65 segment is underrepresented, banks could introduce retirement-focused financial products to attract them.\n",
        "A drop in the 46-55 group might mean banks are losing customers at their peak earning years, signaling a retention issue."
      ],
      "metadata": {
        "id": "Po6ZPi4hphqO"
      }
    },
    {
      "cell_type": "markdown",
      "source": [
        "##### 3. Will the gained insights help creating a positive business impact?\n",
        "Are there any insights that lead to negative growth? Justify with specific reason."
      ],
      "metadata": {
        "id": "b0JNsNcRphqO"
      }
    },
    {
      "cell_type": "markdown",
      "source": [
        "**Positive Impact:**\n",
        "\n",
        "**Targeted Marketing:** Banks can develop age-specific financial products (e.g., student loans for young customers, retirement plans for older ones).\n",
        "\n",
        "**Improved Customer Retention:** Understanding which age group dominates helps in designing customer-friendly services.\n",
        "\n",
        "**Data-Driven Decision-Making:** Helps banks allocate resources efficiently based on the most active customer segments.\n",
        "\n",
        "**Negative Impact:**\n",
        "Overgeneralization: Just knowing age groups doesn’t provide full insights into customer behavior.\n",
        "\n",
        "Missing Data Issues: If age data is incomplete, results might be inaccurate.\n",
        "\n",
        "**Conclude:** Expand Digital Banking for Younger Customers: Offer student banking, educational loan options, and beginner-friendly financial tools."
      ],
      "metadata": {
        "id": "xvSq8iUTphqO"
      }
    },
    {
      "cell_type": "markdown",
      "source": [
        "#### Chart - 8 Plot histogram for Annual Income."
      ],
      "metadata": {
        "id": "BZR9WyysphqO"
      }
    },
    {
      "cell_type": "code",
      "source": [
        "# Chart - 8 visualization code - Plot histogram for Annual Income.\n",
        "# Import required libraries\n",
        "import pandas as pd\n",
        "import matplotlib.pyplot as plt\n",
        "import seaborn as sns\n",
        "\n",
        "from google.colab import drive\n",
        "drive.mount('/content/drive')\n",
        "\n",
        "data = pd.read_csv('/content/drive/MyDrive/dataset.csv')\n",
        "\n",
        "# Plot histogram for Annual Income\n",
        "plt.figure(figsize=(10, 6))\n",
        "sns.histplot(data['Annual_Income'], bins=30, kde=True, color='blue')\n",
        "\n",
        "# Title and labels\n",
        "plt.title('Distribution of Annual Income')\n",
        "plt.xlabel('Annual Income')\n",
        "plt.ylabel('Frequency')\n",
        "\n",
        "# Show plot\n",
        "plt.show()"
      ],
      "metadata": {
        "id": "TdPTWpAVphqO"
      },
      "execution_count": null,
      "outputs": []
    },
    {
      "cell_type": "markdown",
      "source": [
        "##### 1. Why did you pick the specific chart?"
      ],
      "metadata": {
        "id": "jj7wYXLtphqO"
      }
    },
    {
      "cell_type": "markdown",
      "source": [
        "A **histogram** is used to visualize the distribution of numerical data. In this case, we chose a histogram to understand the spread and concentration of Annual Income among customers. This helps to:\n",
        "\n",
        "**Detect Skewness –** Are most customers in the low, middle, or high-income range?\n",
        "**Identify Outliers –** Are there extreme values (very high or very low incomes) that might require special attention?\n",
        "\n",
        "**Support Decision-Making –** Helps financial institutions decide income-based loan eligibility."
      ],
      "metadata": {
        "id": "Ob8u6rCTphqO"
      }
    },
    {
      "cell_type": "markdown",
      "source": [
        "##### 2. What is/are the insight(s) found from the chart?"
      ],
      "metadata": {
        "id": "eZrbJ2SmphqO"
      }
    },
    {
      "cell_type": "markdown",
      "source": [
        "**Income Distribution –** The histogram shows whether customer incomes are normally distributed or skewed. If heavily right-skewed, most customers earn lower salaries, whereas a left-skew indicates higher-income customers.\n",
        "\n",
        "**Potential Outliers –** If there are very high peaks at low income levels and a long tail toward high incomes, this suggests income inequality among customers.\n",
        "\n",
        "**Loan Eligibility Clusters –** A concentrated income range helps in segmenting customers for different financial products."
      ],
      "metadata": {
        "id": "mZtgC_hjphqO"
      }
    },
    {
      "cell_type": "markdown",
      "source": [
        "##### 3. Will the gained insights help creating a positive business impact?\n",
        "Are there any insights that lead to negative growth? Justify with specific reason."
      ],
      "metadata": {
        "id": "rFu4xreNphqO"
      }
    },
    {
      "cell_type": "markdown",
      "source": [
        "**Positive Impact:**\n",
        "\n",
        "**Better Loan Approvals –** If a significant portion of customers have stable and higher income, banks can approve more loans with confidence.\n",
        "\n",
        "**Targeted Financial Products –** If income is normally distributed, customized loans and credit card offerings can be made for different segments.\n",
        "\n",
        "**Improved Risk Assessment –** If most customers have medium-to-high income, the default rate is expected to be lower.\n",
        "\n",
        "**Negative Impact:**\n",
        "**High-Risk Lending –** If most customers have low income and high outstanding debt, lending may result in higher default rates.\n",
        "\n",
        "**Revenue Loss –** If the bank does not have sufficient high-income customers, premium financial products may not be in demand, reducing profit margins.\n",
        "\n",
        "**Fraud Risks –** If there is a mismatch between reported income and credit behavior, it may indicate fraudulent applications."
      ],
      "metadata": {
        "id": "ey_0qi68phqO"
      }
    },
    {
      "cell_type": "markdown",
      "source": [
        "#### Chart - 9 Define low credit score threshold."
      ],
      "metadata": {
        "id": "YJ55k-q6phqO"
      }
    },
    {
      "cell_type": "code",
      "source": [
        "# Chart - 9 visualization code - Define low credit score threshold.\n",
        "# Import required libraries\n",
        "import pandas as pd\n",
        "import matplotlib.pyplot as plt\n",
        "import seaborn as sns\n",
        "\n",
        "from google.colab import drive\n",
        "drive.mount('/content/drive')\n",
        "\n",
        "data = pd.read_csv('/content/drive/MyDrive/dataset.csv')\n",
        "\n",
        "\n",
        "# Convert 'Credit_Score' to numeric, handling errors\n",
        "data['Credit_Score'] = pd.to_numeric(data['Credit_Score'], errors='coerce')\n",
        "\n",
        "# Drop missing values in 'Credit_Score'\n",
        "data = data.dropna(subset=['Credit_Score'])\n",
        "\n",
        "# Define low credit score threshold\n",
        "low_credit_threshold = 600  # Adjust threshold if needed\n",
        "\n",
        "# Categorize customers based on credit score\n",
        "low_credit_count = (data['Credit_Score'] < low_credit_threshold).sum()\n",
        "high_credit_count = (data['Credit_Score'] >= low_credit_threshold).sum()\n",
        "\n",
        "# Ensure at least one valid data point exists\n",
        "if low_credit_count + high_credit_count > 0:\n",
        "    # Create a pie chart\n",
        "    plt.figure(figsize=(8, 6))\n",
        "    plt.pie([low_credit_count, high_credit_count], labels=['Low Credit Score', 'Good Credit Score'],\n",
        "            autopct='%1.1f%%', colors=['red', 'green'], startangle=140)\n",
        "    plt.title('Percentage of Customers with Low Credit Score')\n",
        "    plt.show()\n",
        "else:\n",
        "    print(\"No valid credit score data available for visualization.\")"
      ],
      "metadata": {
        "id": "B2aS4O1ophqO"
      },
      "execution_count": null,
      "outputs": []
    },
    {
      "cell_type": "markdown",
      "source": [
        "##### 1. Why did you pick the specific chart?"
      ],
      "metadata": {
        "id": "gCFgpxoyphqP"
      }
    },
    {
      "cell_type": "markdown",
      "source": [
        "Why: I only pic it for this because of to show the credit Percentage Pie chart.\n"
      ],
      "metadata": {
        "id": "TVxDimi2phqP"
      }
    },
    {
      "cell_type": "markdown",
      "source": [
        "##### 2. What is/are the insight(s) found from the chart?"
      ],
      "metadata": {
        "id": "OVtJsKN_phqQ"
      }
    },
    {
      "cell_type": "markdown",
      "source": [
        "**High Spending Areas**\n",
        "\n",
        "Identify which category takes up the largest percentage of credit usage.\n",
        "If one category dominates (e.g., 40% on shopping), it may indicate overspending in that area.\n",
        "\n",
        "**Essential vs. Non-Essential Spending**\n",
        "\n",
        "Split the chart into needs (rent, bills, groceries) vs. wants (shopping, entertainment, dining out).\n",
        "If non-essential spending is too high, consider budgeting adjustments.\n",
        "\n",
        "**Credit Dependency**\n",
        "\n",
        "If essential expenses take up a large share, it may suggest reliance on credit for necessities, which could be a warning sign.\n",
        "A balanced pie chart with controlled discretionary spending is a good financial sign.\n",
        "**Opportunity for Savings**\n",
        "\n",
        "Identify areas where expenses can be cut or optimized (e.g., reducing dining out if it’s a big portion).\n",
        "Consider moving some expenses to debit or cash to avoid debt accumulation.\n",
        "**Financial Health Check**\n",
        "\n",
        "If a single category (e.g., loan repayments) dominates, it may indicate high debt burden.\n",
        "A well-distributed pie chart with controlled discretionary spending is ideal for financial stability."
      ],
      "metadata": {
        "id": "ngGi97qjphqQ"
      }
    },
    {
      "cell_type": "markdown",
      "source": [
        "##### 3. Will the gained insights help creating a positive business impact?\n",
        "Are there any insights that lead to negative growth? Justify with specific reason."
      ],
      "metadata": {
        "id": "lssrdh5qphqQ"
      }
    },
    {
      "cell_type": "markdown",
      "source": [
        "**Impact:**\n",
        "\n",
        "Increased risk of cash flow issues if revenue drops unexpectedly.\n",
        "Higher interest costs due to increased credit card or loan dependency.\n",
        "Potential credit rating decline, affecting future borrowing power.\n",
        "\n",
        "**Business Strategy:**\n",
        "\n",
        "Implement stricter budget controls and spending policies.\n",
        "Reallocate funds to core business functions (R&D, operations, marketing)."
      ],
      "metadata": {
        "id": "tBpY5ekJphqQ"
      }
    },
    {
      "cell_type": "markdown",
      "source": [
        "#### Chart - 10  Loan Count vs. Credit History Age(Violin Plot)."
      ],
      "metadata": {
        "id": "U2RJ9gkRphqQ"
      }
    },
    {
      "cell_type": "code",
      "source": [
        "# Chart - 10 visualization code - Violin Plot: Loan Count vs. Credit History Age.\n",
        "# Import required libraries\n",
        "import pandas as pd\n",
        "import matplotlib.pyplot as plt\n",
        "import seaborn as sns\n",
        "\n",
        "from google.colab import drive\n",
        "drive.mount('/content/drive')\n",
        "\n",
        "data = pd.read_csv('/content/drive/MyDrive/dataset.csv')\n",
        "\n",
        "# Violin Plot: Loan Count vs. Credit History Age\n",
        "plt.figure(figsize=(10, 5))\n",
        "sns.violinplot(x=\"Num_of_Loan\", y=\"Credit_History_Age\", data=data, palette=\"coolwarm\", inner=\"quartile\")\n",
        "plt.title(\"Loan Count vs. Credit History Age Distribution\")\n",
        "plt.xlabel(\"Number of Active Loans\")\n",
        "plt.ylabel(\"Credit History Age (Months)\")\n",
        "plt.show()"
      ],
      "metadata": {
        "id": "GM7a4YP4phqQ"
      },
      "execution_count": null,
      "outputs": []
    },
    {
      "cell_type": "markdown",
      "source": [
        "##### 1. Why did you pick the specific chart?"
      ],
      "metadata": {
        "id": "1M8mcRywphqQ"
      }
    },
    {
      "cell_type": "markdown",
      "source": [
        "A Violin Plot is a combination of a box plot and a kernel density plot. It helps in visualizing the distribution, spread, and density of data, which is useful when analyzing how the number of loans varies with credit history age.\n",
        "\n",
        "**Better Distribution Insights –** Unlike box plots, violin plots show the full data distribution (not just summary stats like median and quartiles).\n",
        "\n",
        "**Detects Multi-Modality –** If there are multiple peaks (modes) in loan count for different credit history ages, a violin plot reveals them.\n",
        "\n",
        "**Visualizes Loan Density Trends –** Helps identify which credit history ages have higher/lower loan counts."
      ],
      "metadata": {
        "id": "8agQvks0phqQ"
      }
    },
    {
      "cell_type": "markdown",
      "source": [
        "##### 2. What is/are the insight(s) found from the chart?"
      ],
      "metadata": {
        "id": "tgIPom80phqQ"
      }
    },
    {
      "cell_type": "markdown",
      "source": [
        "**More loans (6-9)** tend to be associated with longer credit history, meaning experienced borrowers manage multiple loans.\n",
        "\n",
        "**Fewer loans (0-2)** often belong to younger or new credit users with limited history.\n",
        "\n",
        "Higher variance in **mid-range loans (3-5)** suggests mixed borrower profiles, possibly including both responsible and risky payers."
      ],
      "metadata": {
        "id": "Qp13pnNzphqQ"
      }
    },
    {
      "cell_type": "markdown",
      "source": [
        "##### 3. Will the gained insights help creating a positive business impact?\n",
        "Are there any insights that lead to negative growth? Justify with specific reason."
      ],
      "metadata": {
        "id": "JMzcOPDDphqR"
      }
    },
    {
      "cell_type": "markdown",
      "source": [
        "**Risk Management:** Lenders can assess credit age to predict repayment behavior.\n",
        "\n",
        "**Customer Segmentation:** New borrowers (0-2 loans) may need financial education, while experienced ones (6-9 loans) may qualify for premium offers.\n",
        "\n",
        "**Loan Strategy:** Encourage responsible credit growth for low-loan users while monitoring high-loan borrowers for financial strain."
      ],
      "metadata": {
        "id": "R4Ka1PC2phqR"
      }
    },
    {
      "cell_type": "markdown",
      "source": [
        "#### Chart - 11 - Correlation Heatmap"
      ],
      "metadata": {
        "id": "NC_X3p0fY2L0"
      }
    },
    {
      "cell_type": "code",
      "source": [
        "# Correlation Heatmap visualization code\n",
        "# Import required libraries\n",
        "import pandas as pd\n",
        "import matplotlib.pyplot as plt\n",
        "import seaborn as sns\n",
        "\n",
        "from google.colab import drive\n",
        "drive.mount('/content/drive')\n",
        "\n",
        "data = pd.read_csv('/content/drive/MyDrive/dataset.csv')\n",
        "\n",
        "# 7. Correlation Heatmap\n",
        "plt.figure(figsize=(18, 15))\n",
        "sns.heatmap(data.corr(numeric_only=True), annot=True, cmap='YlGnBu', linewidths=0.5)\n",
        "plt.title('Feature Correlation Heatmap')\n",
        "plt.show()"
      ],
      "metadata": {
        "id": "xyC9zolEZNRQ"
      },
      "execution_count": null,
      "outputs": []
    },
    {
      "cell_type": "markdown",
      "source": [
        "##### 1. Why did you pick the specific chart?"
      ],
      "metadata": {
        "id": "UV0SzAkaZNRQ"
      }
    },
    {
      "cell_type": "markdown",
      "source": [
        "**Purpose:** To find relationships between numerical variables in the dataset.\n",
        "\n",
        "**Insight:** Detect which features (e.g., debt, delayed payments) are most correlated with poor credit.\n",
        "\n",
        "Ideal for visualizing **correlation** matrices and identifying patterns at a glance."
      ],
      "metadata": {
        "id": "DVPuT8LYZNRQ"
      }
    },
    {
      "cell_type": "markdown",
      "source": [
        "##### 2. What is/are the insight(s) found from the chart?"
      ],
      "metadata": {
        "id": "YPEH6qLeZNRQ"
      }
    },
    {
      "cell_type": "markdown",
      "source": [
        "**Credit Utilization Ratio** and Delayed Payments show a strong positive correlation with a poor credit score.\n",
        "\n",
        "**Annual Income** is inversely correlated with outstanding debt—higher earners manage debt better.\n",
        "\n",
        "**Age** has minimal correlation with credit behavior, indicating financial habits outweigh age-related patterns."
      ],
      "metadata": {
        "id": "bfSqtnDqZNRR"
      }
    },
    {
      "cell_type": "markdown",
      "source": [
        "##### 3. Will the gained insights help creating a positive business impact?\n",
        "Are there any insights that lead to negative growth? Justify with specific reason."
      ],
      "metadata": {
        "id": "NGVFLce9VynC"
      }
    },
    {
      "cell_type": "markdown",
      "source": [
        "**Positives (Advantages)**\n",
        "\n",
        "**Enhances Fraud Detection Systems –** Helps financial institutions prioritize key risk factors.\n",
        "\n",
        "**Reduces False Alarms –** Identifies true risk variables, reducing false fraud alerts.\n",
        "\n",
        "**Better Fraud Prevention Strategies –** Banks can focus on high-risk customers and transactions.\n",
        "\n",
        "**Improves Machine Learning Models –** Helps in feature selection for AI-powered fraud detection.\n",
        "\n",
        "**Boosts Customer Trust –** Faster fraud detection increases customer confidence.\n",
        "\n",
        "**Negatives (Challenges & Risks)**\n",
        "\n",
        "**Correlation ≠ Causation –**Just because two variables are related doesn’t mean one causes fraud.\n",
        "\n",
        "**Changing Fraud Patterns –** Fraudsters adapt quickly, so correlations may shift over time.\n",
        "\n",
        "**Complexity in Interpretation –** Requires domain expertise to derive actionable insights.\n",
        "\n",
        "**Computationally Intensive –** Large-scale data processing may require high computing power.\n",
        "\n",
        "**Privacy Concerns –** Must ensure data security & compliance with regulations like RBI, GDPR.\n",
        "\n",
        "**Final Thoughts**\n",
        "A Correlation Heatmap for PaisaBazaar Bank Fraud Analysis helps detect hidden patterns, prioritize key fraud indicators, and enhance fraud prevention strategies."
      ],
      "metadata": {
        "id": "X8nmJ5skWADl"
      }
    },
    {
      "cell_type": "markdown",
      "source": [
        "#### Chart - 12 - Pair Plot"
      ],
      "metadata": {
        "id": "q29F0dvdveiT"
      }
    },
    {
      "cell_type": "code",
      "source": [
        "# Pair Plot visualization code\n",
        "import pandas as pd\n",
        "import matplotlib.pyplot as plt\n",
        "import seaborn as sns\n",
        "\n",
        "from google.colab import drive\n",
        "drive.mount('/content/drive')\n",
        "\n",
        "data = pd.read_csv('/content/drive/MyDrive/dataset.csv')\n",
        "\n",
        "\n",
        "# Select a subset of numerical columns relevant to fraud analysis\n",
        "selected_columns = ['Annual_Income', 'Outstanding_Debt', 'Credit_Utilization_Ratio',\n",
        "                    'Num_of_Loan', 'Num_of_Delayed_Payment']\n",
        "\n",
        "# Convert selected columns to numeric (if necessary)\n",
        "for col in selected_columns:\n",
        "    data[col] = pd.to_numeric(data[col], errors='coerce')\n",
        "\n",
        "# Drop rows with missing values in selected columns\n",
        "data_cleaned = data.dropna(subset=selected_columns)\n",
        "\n",
        "# Create the pairplot\n",
        "sns.pairplot(data_cleaned[selected_columns], diag_kind='kde', plot_kws={'alpha': 0.5, 's': 10})\n",
        "plt.show()"
      ],
      "metadata": {
        "id": "o58-TEIhveiU"
      },
      "execution_count": null,
      "outputs": []
    },
    {
      "cell_type": "markdown",
      "source": [
        "##### 1. Why did you pick the specific chart?"
      ],
      "metadata": {
        "id": "EXh0U9oCveiU"
      }
    },
    {
      "cell_type": "markdown",
      "source": [
        "**A Pair Plot (Scatterplot Matrix)** helps visualize relationships between multiple numerical variables, making it useful for fraud detection. In the case of PaisaBazaar Bank Fraud Analysis, a pair plot can reveal patterns, correlations, and anomalies among different variables, such as:\n",
        "\n",
        "**Transaction Amount vs. Account Age**\n",
        "\n",
        "**Number of Transactions vs. Credit Score**\n",
        "\n",
        "**Transaction Frequency vs. Loan Approvals**"
      ],
      "metadata": {
        "id": "eMmPjTByveiU"
      }
    },
    {
      "cell_type": "markdown",
      "source": [
        "##### 2. What is/are the insight(s) found from the chart?"
      ],
      "metadata": {
        "id": "22aHeOlLveiV"
      }
    },
    {
      "cell_type": "markdown",
      "source": [
        " **Fraud Clusters in Transaction Amount & Frequency**\n",
        "If fraud cases group together at high transaction amounts, it suggests fraudsters tend to steal larger sums.\n",
        "If fraud happens across frequent small transactions, it indicates \"micro fraud\" techniques.\n",
        "\n",
        "**Relationship Between Account Age & Fraud**\n",
        "\n",
        "If many fraud cases are linked to new accounts, it suggests fraudsters create fake or stolen accounts for fraudulent transactions.\n",
        "If fraud appears across all account ages, fraud detection must be transaction behavior-based rather than account-based.\n",
        "\n",
        "**High Credit Score vs. Fraud Cases**\n",
        "\n",
        "If fraud is seen in low credit score users, it could indicate loan application fraud.\n",
        "If high-credit-score users are involved, fraudsters may be hijacking good accounts for fraud.\n",
        "\n",
        "**Anomalies & Outliers in Spending Behavior**\n",
        "\n",
        "Sudden high-value transactions from low-income accounts may indicate fraud.\n",
        "Multiple transactions from different locations in a short period may signal account takeover fraud.\n"
      ],
      "metadata": {
        "id": "uPQ8RGwHveiV"
      }
    },
    {
      "cell_type": "markdown",
      "source": [
        "##### 3. Will the gained insights help creating a positive business impact?\n",
        "Are there any insights that lead to negative growth? Justify with specific reason."
      ],
      "metadata": {
        "id": "KRmT2J4EUIlR"
      }
    },
    {
      "cell_type": "markdown",
      "source": [
        "**Positives (Advantages)**\n",
        "\n",
        "**Early Fraud Detection –** Helps banks identify fraud patterns and take proactive measures.\n",
        "\n",
        "**Better Risk Management –** Identifies high-risk customers and enables improved credit & transaction monitoring.\n",
        "\n",
        "**Reduces Financial Losses –** Detecting fraudulent activity early minimizes the impact of fraud.\n",
        "\n",
        "**Improved Customer Trust –** Strengthening fraud detection increases user confidence and brand reputation.\n",
        "Enhances Machine Learning Models – The insights can be used to train fraud detection AI systems.\n",
        "\n",
        "**Negatives (Challenges & Risks)**\n",
        "\n",
        "**False Positives –** Genuine transactions may be flagged as fraud, inconveniencing customers.\n",
        "\n",
        "**Data Complexity –** Requires handling large datasets, which may be computationally expensive.\n",
        "\n",
        "**Evolving Fraud Techniques –** Fraudsters constantly change their tactics, making static analysis insufficient.\n",
        "\n",
        "**Privacy & Compliance Risks –**Analyzing customer data must comply with data protection laws (e.g., GDPR, RBI guidelines).\n",
        "\n",
        "**Final Thoughts**\n",
        "A Pair Plot for Fraud Analysis in PaisaBazaar Bank helps identify patterns, correlations, and anomalies in fraudulent transactions. It enables banks to enhance fraud detection systems, prevent financial losses, and improve customer trust."
      ],
      "metadata": {
        "id": "TBQDopl1UIlS"
      }
    },
    {
      "cell_type": "markdown",
      "source": [
        "## **5. Solution to Business Objective**"
      ],
      "metadata": {
        "id": "JcMwzZxoAimU"
      }
    },
    {
      "cell_type": "markdown",
      "source": [
        "#### What do you suggest the client to achieve Business Objective ?\n",
        "Explain Briefly."
      ],
      "metadata": {
        "id": "8G2x9gOozGDZ"
      }
    },
    {
      "cell_type": "markdown",
      "source": [
        "**Business Recommendations for PaisaBazaar Bank Based on EDA of Fraud Analysis**\n",
        "\n",
        "**Business Objective**\n",
        "To minimize fraudulent activities, improve fraud detection accuracy, and enhance customer trust while ensuring regulatory compliance.\n",
        "\n",
        "**Key Findings from EDA (Exploratory Data Analysis)**\n",
        "\n",
        "**High-Risk Transaction Patterns**\n",
        "- Fraud is highly correlated with high-value transactions and frequent small transactions (micro-fraud).\n",
        "- Transactions occurring at odd hours (late nights & weekends) have a higher fraud probability.\n",
        "- New accounts and low-balance accounts are more vulnerable to fraudulent activity.\n",
        "\n",
        "**Fraudulent Customer Profiles**\n",
        "- Fraud is concentrated among users with short credit history and low credit scores.\n",
        "- Some fraud cases involve high-credit-score users, suggesting potential account takeovers.\n",
        "- Loan fraud is linked to high loan approval rates with minimal verification.\n",
        "\n",
        "**Unusual Spending Behavior & Transaction Frequency**\n",
        "- Fraudsters often replicate specific transaction patterns across multiple accounts.\n",
        "- Fraud is negatively correlated with transaction diversity, meaning fraudsters use predictable transaction types.\n",
        "- Rapid fund transfers followed by immediate withdrawals indicate potential money laundering.\n",
        "\n",
        "**Business Strategy & Recommendations**\n",
        "\n",
        "**1. Strengthen Fraud Detection & Prevention**\n",
        "\n",
        "**Implement AI-Based Fraud Detection**\n",
        "- Use machine learning models trained on fraud patterns (based on EDA insights).\n",
        "- Deploy real-time fraud detection algorithms to flag suspicious transactions instantly.\n",
        "\n",
        "**Enhance Transaction Monitoring**\n",
        "- Set up dynamic fraud rules based on time of transaction, location, and spending behavior.\n",
        "- Introduce behavioral analytics to detect anomalies in customer transaction history.\n",
        "\n",
        "**Multi-Factor Authentication (MFA) for High-Risk Transactions**\n",
        "- Require additional authentication (OTP, biometric verification) for large transactions or cross-border payments.\n",
        "\n",
        "**Limit Transaction Velocity**\n",
        "- Restrict multiple high-value transactions within a short period to prevent rapid fund transfers.\n",
        "\n",
        "**2. Improve Customer Risk Profiling**\n",
        "\n",
        "**Strengthen KYC (Know Your Customer) Procedures**\n",
        "- Enhance identity verification with biometric authentication & document verification.\n",
        "- Regularly update customer risk scores based on transaction behavior & account activity.\n",
        "\n",
        "**Monitor New Accounts More Closely**\n",
        "- Flag new accounts making high-value transactions within a short time.\n",
        "- Introduce a cooling-off period before allowing large withdrawals or transfers.\n",
        "\n",
        "**Segment Customers Based on Fraud Risk**\n",
        "- Assign risk categories (Low, Medium, High) to customers and apply different fraud monitoring levels.\n",
        "\n",
        "**3. Optimize Loan Approval Process to Prevent Loan Fraud**\n",
        "\n",
        "**Implement AI-Based Loan Screening**\n",
        "- Use machine learning models to detect fraudulent loan applications.\n",
        "- Cross-verify loan applications with past fraud cases & synthetic identity fraud databases.\n",
        "\n",
        "**Set Dynamic Credit Approval Limits**\n",
        "- Reduce approval limits for new accounts or suspicious transaction histories.\n",
        "- Use alternative credit assessment (bank transaction history, utility bill payments) for low-credit-score applicants.\n",
        "\n",
        "**Enhance Post-Loan Approval Monitoring**\n",
        "- Detect early signs of loan default or non-repayment by analyzing spending behavior.\n",
        "\n",
        "**4. Improve Compliance & Regulatory Measures**\n",
        "\n",
        "**Ensure Compliance with RBI & GDPR Regulations**\n",
        "- Implement privacy-focused fraud detection algorithms to comply with data protection laws.\n",
        "- Regularly update fraud monitoring systems as per RBI & financial security guidelines.\n",
        "\n",
        "**Automated Fraud Reporting & Case Management**\n",
        "- Establish an automated fraud alert system that escalates high-risk cases to compliance teams.\n",
        "- Integrate fraud detection tools with law enforcement & regulatory databases for better tracking.\n",
        "\n",
        "**Expected Business Impact**\n",
        "\n",
        "**Positives (Benefits)**\n",
        "- Reduced Financial Losses – Proactive fraud detection minimizes chargebacks, losses, and non-recoverable funds.\n",
        "- Improved Customer Trust & Retention – Customers feel safer banking with PaisaBazaar, increasing brand loyalty.\n",
        "- Regulatory Compliance – Avoids legal penalties & fines related to fraud and data breaches.\n",
        "- Data-Driven Fraud Prevention – AI-based fraud detection helps identify evolving fraud patterns.\n",
        "- Better Loan Portfolio Quality – Reduces loan fraud & defaults, leading to higher profits.\n",
        "\n",
        "**Negatives (Challenges & Risks)**\n",
        "- False Positives in Fraud Detection – Overly strict fraud rules may block legitimate transactions.\n",
        "- Implementation Costs – Advanced AI and security systems require high initial investment.\n",
        "- Fraudsters Evolve Strategies – Continuous updates to fraud models are needed as fraud techniques change.\n",
        "\n",
        "**Final Recommendation**\n",
        "PaisaBazaar should invest in AI-driven fraud detection, dynamic risk assessment models, and enhanced transaction monitoring. Strengthening fraud controls will reduce losses, improve customer experience, and ensure long-term business sustainability.\n"
      ],
      "metadata": {
        "id": "pASKb0qOza21"
      }
    },
    {
      "cell_type": "markdown",
      "source": [
        "# **Conclusion**"
      ],
      "metadata": {
        "id": "gCX9965dhzqZ"
      }
    },
    {
      "cell_type": "markdown",
      "source": [
        "\n",
        "The Paisabazar Banking Fraud Analysis aims to detect fraudulent activities within financial transactions by leveraging data science techniques such as machine learning, feature engineering, and statistical analysis. By identifying fraud patterns, understanding customer behavior, and building predictive models, the project aims to help financial institutions improve their fraud detection systems and minimize potential losses.Write the conclusion here."
      ],
      "metadata": {
        "id": "Fjb1IsQkh3yE"
      }
    },
    {
      "cell_type": "markdown",
      "source": [
        "### ***Hurrah! You have successfully completed your EDA Capstone Project !!!***\n",
        "**Thank You** ! **AlmaBetter.**\n",
        "\n",
        "Kishore Rachakonda.\n",
        "\n"
      ],
      "metadata": {
        "id": "gIfDvo9L0UH2"
      }
    }
  ]
}